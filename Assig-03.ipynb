{
 "cells": [
  {
   "cell_type": "code",
   "execution_count": 22,
   "metadata": {},
   "outputs": [
    {
     "name": "stdout",
     "output_type": "stream",
     "text": [
      "Select Option\n",
      "1.add\n",
      "2.subtract\n",
      "3.multiply\n",
      "4.divided\n",
      "5.power\n",
      "Enter Choice(1/2/3/4/5):5\n",
      "Enter First Number5\n",
      "Enter Second Number5\n",
      "5.0 ** 5.0 = 3125.0\n"
     ]
    }
   ],
   "source": [
    "def add(x,y):\n",
    "    return x + y\n",
    "def subs(x,y):\n",
    "    return x - y\n",
    "def multi(x,y):\n",
    "    return x * y\n",
    "def divid(x,y):\n",
    "    return x / y\n",
    "def power(x,y):\n",
    "    result = x ** y\n",
    "    return result\n",
    "\n",
    "print(\"Select Option\")\n",
    "print(\"1.add\")\n",
    "print(\"2.subtract\")\n",
    "print(\"3.multiply\")\n",
    "print(\"4.divided\")\n",
    "print(\"5.power\")\n",
    "\n",
    "choose = int(input(\"Enter Choice(1/2/3/4/5):\"))\n",
    "\n",
    "num1 = float(input(\"Enter First Number\"))\n",
    "num2 = float(input(\"Enter Second Number\"))\n",
    "\n",
    "if choose == 1:\n",
    "    print(num1, \"+\" ,num2, \"=\", add(num1,num2))\n",
    "elif choose == 2:\n",
    "    print(num1, \"-\", num2, \"=\" ,subs(num1,num2))\n",
    "elif choose == 3:\n",
    "    print(num1, \"*\", num2, \"=\", multi(num1,num2))\n",
    "elif choose == 4:\n",
    "    print(num1, \"/\", num2, \"=\" ,divid(num1,num2))\n",
    "elif choose ==5:\n",
    "    print(num1, \"**\", num2, \"=\" ,power(num1,num2))\n",
    "else:\n",
    "    print(\"Invalid Number\")\n",
    "    "
   ]
  },
  {
   "cell_type": "code",
   "execution_count": 32,
   "metadata": {},
   "outputs": [
    {
     "name": "stdout",
     "output_type": "stream",
     "text": [
      "Enter Any Value3\n",
      "Element Exist\n",
      "Element Exist\n"
     ]
    }
   ],
   "source": [
    "test = [4,3,5,7,8,5,3,2]\n",
    "data = int(input(\"Enter Any Value\"))\n",
    "\n",
    "for tests in test:\n",
    "    if tests == data:\n",
    "        print(\"Element Exist\")"
   ]
  },
  {
   "cell_type": "code",
   "execution_count": 3,
   "metadata": {},
   "outputs": [
    {
     "name": "stdout",
     "output_type": "stream",
     "text": [
      "{0: 10, 1: 20}\n",
      "{0: 10, 1: 20, 2: 30}\n"
     ]
    }
   ],
   "source": [
    "dic = {\n",
    "    0:10, 1:20\n",
    "}\n",
    "print(dic)\n",
    "dic.update({2:30})\n",
    "print(dic)"
   ]
  },
  {
   "cell_type": "code",
   "execution_count": 13,
   "metadata": {},
   "outputs": [
    {
     "name": "stdout",
     "output_type": "stream",
     "text": [
      "90\n"
     ]
    }
   ],
   "source": [
    "dic = {\n",
    "    \"a\":20 , \"b\": 30 , \"c\" : 40\n",
    "}\n",
    "\n",
    "print(sum(dic.values()))"
   ]
  },
  {
   "cell_type": "code",
   "execution_count": 20,
   "metadata": {},
   "outputs": [
    {
     "name": "stdout",
     "output_type": "stream",
     "text": [
      "[4, 6, 5]\n"
     ]
    }
   ],
   "source": [
    "def Repeat(i):\n",
    "    _size = len(i)\n",
    "    repeated = []\n",
    "    for x in range(_size):\n",
    "        k = x + 1\n",
    "        for j in range(k, _size):\n",
    "            if i[x] == i[j] and i[x] not in repeated:\n",
    "                repeated.append(i[x])\n",
    "    return repeated\n",
    "list1 = [3,4,56,6,5,4,323,4,5,6,7,8,6,6,5,5]\n",
    "print(Repeat(list1))"
   ]
  },
  {
   "cell_type": "code",
   "execution_count": 31,
   "metadata": {},
   "outputs": [
    {
     "name": "stdout",
     "output_type": "stream",
     "text": [
      "Enter A value7\n",
      "Key is not present in the dictionary\n"
     ]
    }
   ],
   "source": [
    "d = {1: 10, 2: 20, 3: 30, 4: 40, 5: 50, 6: 60}\n",
    "def is_key_present(x):\n",
    "  if x in d:\n",
    "      print('Key is present in the dictionary')\n",
    "  else:\n",
    "      print('Key is not present in the dictionary')\n",
    "\n",
    "value = int(input(\"Enter A value \"))\n",
    "is_key_present(value)\n"
   ]
  }
 ],
 "metadata": {
  "kernelspec": {
   "display_name": "Python 3",
   "language": "python",
   "name": "python3"
  },
  "language_info": {
   "codemirror_mode": {
    "name": "ipython",
    "version": 3
   },
   "file_extension": ".py",
   "mimetype": "text/x-python",
   "name": "python",
   "nbconvert_exporter": "python",
   "pygments_lexer": "ipython3",
   "version": "3.7.3"
  }
 },
 "nbformat": 4,
 "nbformat_minor": 2
}
