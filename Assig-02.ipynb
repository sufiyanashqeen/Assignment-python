{
 "cells": [
  {
   "cell_type": "code",
   "execution_count": 6,
   "metadata": {},
   "outputs": [
    {
     "name": "stdout",
     "output_type": "stream",
     "text": [
      "Marks In English Core:44\n",
      "Marks In Hindi/Mathematics:44\n",
      "Marks In Physics:44\n",
      "Marks In Chemistry:44\n",
      "Marks In Computer Science/Biology:44\n",
      "Your Marks In Percentage Is 44.0 %\n",
      "You have passed!\n"
     ]
    }
   ],
   "source": [
    "a=int(input(\"Marks In English Core:\"))\n",
    "b=int(input(\"Marks In Hindi/Mathematics:\"))\n",
    "c=int(input(\"Marks In Physics:\"))\n",
    "d=int(input(\"Marks In Chemistry:\"))\n",
    "e=int(input(\"Marks In Computer Science/Biology:\"))\n",
    " \n",
    "f=(a+b+c+d+e)*100/500\n",
    "print(\"Your Marks In Percentage Is\",f,\"%\")\n",
    " \n",
    "if f >= 33:\n",
    "    print('You have passed!')\n",
    "else:\n",
    "    print('You have failed')"
   ]
  },
  {
   "cell_type": "code",
   "execution_count": null,
   "metadata": {},
   "outputs": [],
   "source": [
    "value = int(input(\"Enter a Value To check it Even Or Odd \"))\n",
    "\n",
    "if value%2 == 0:\n",
    "    print(\"Even Number \")\n",
    "else:\n",
    "    print(\"Odd Number \")"
   ]
  },
  {
   "cell_type": "code",
   "execution_count": 8,
   "metadata": {},
   "outputs": [
    {
     "data": {
      "text/plain": [
       "15"
      ]
     },
     "execution_count": 8,
     "metadata": {},
     "output_type": "execute_result"
    }
   ],
   "source": [
    "arr = [3,4,5,6,78,8,7,5,4,3,5,6,7,87,8]\n",
    "length = len(arr)\n",
    "length"
   ]
  },
  {
   "cell_type": "code",
   "execution_count": 18,
   "metadata": {},
   "outputs": [
    {
     "name": "stdout",
     "output_type": "stream",
     "text": [
      "88\n"
     ]
    }
   ],
   "source": [
    "arr1 = [3,4,7,8,9,7,6,5,4,5,6,7,8,9]\n",
    "sum = 0\n",
    "for arr in arr1:\n",
    "    sum = sum + arr\n",
    "\n",
    "print(sum)\n"
   ]
  },
  {
   "cell_type": "code",
   "execution_count": 41,
   "metadata": {},
   "outputs": [
    {
     "name": "stdout",
     "output_type": "stream",
     "text": [
      "65\n"
     ]
    }
   ],
   "source": [
    "arr2 = [3,7,8,6,5,3,2,4,65,7,8,6,5,4,3,4]\n",
    "\n",
    "arr2.sort()\n",
    "\n",
    "\n",
    "print(arr2[-1])\n",
    "    "
   ]
  },
  {
   "cell_type": "code",
   "execution_count": 43,
   "metadata": {},
   "outputs": [
    {
     "name": "stdout",
     "output_type": "stream",
     "text": [
      "1\n",
      "1\n",
      "2\n",
      "3\n"
     ]
    }
   ],
   "source": [
    "arrs = [1, 1, 2, 3, 5, 8, 13, 21, 34, 55, 89]\n",
    "\n",
    "for arr in arrs:\n",
    "    if arr < 5 :\n",
    "        print(arr)"
   ]
  }
 ],
 "metadata": {
  "kernelspec": {
   "display_name": "Python 3",
   "language": "python",
   "name": "python3"
  }
 },
 "nbformat": 4,
 "nbformat_minor": 2
}
