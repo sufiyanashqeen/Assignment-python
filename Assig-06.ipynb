{
 "cells": [
  {
   "cell_type": "markdown",
   "metadata": {},
   "source": [
    "Object-oriented programming (OOP) is a programming language model in which programs are organized around data, or objects, rather than functions and logic. An object can be defined as a data field that has unique attributes and behavior."
   ]
  },
  {
   "cell_type": "markdown",
   "metadata": {},
   "source": [
    "Modularity for easier troubleshooting. Something has gone wrong, and you have no idea where to look.\n",
    "Reuse of code through inheritance.\n",
    "Flexibility through polymorphism.\n",
    "Effective problem solving."
   ]
  },
  {
   "cell_type": "markdown",
   "metadata": {},
   "source": [
    "A function is a block of code which only runs when it is called. You can pass data, known as parameters, into a function. A function can return data as a result.\n",
    "A Python method is like a Python function, but it must be called on an object. And to create it, you must put it inside a class."
   ]
  },
  {
   "cell_type": "markdown",
   "metadata": {},
   "source": [
    "A class is a code template for creating objects.\n",
    "Object is simply a collection of data (variables) and methods (functions) that act on those data. And, class is a blueprint for the object.\n",
    "Attribute just like a variable.\n",
    "The behavior of an object is defined by its methods, which are the functions and subroutines defined within the object class. Without class methods, a class would simply be a structure. Methods determine what type of functionality a class has, how it modifies its data, and its overall behavio\n"
   ]
  },
  {
   "cell_type": "code",
   "execution_count": 17,
   "metadata": {},
   "outputs": [
    {
     "name": "stdout",
     "output_type": "stream",
     "text": [
      "2005\n",
      "red\n",
      "Pink Updated Color\n",
      "mehran\n",
      "suzuki\n",
      "Honda updated company\n",
      "550RPM\n",
      "900CC updated horsepower\n"
     ]
    }
   ],
   "source": [
    "class Car():\n",
    "    def __init__(self,model,color,name,company,horsepower):\n",
    "        self.model = model\n",
    "        self.color = color\n",
    "        self.name = name\n",
    "        self.company = company \n",
    "        self.horsepower = horsepower\n",
    "        \n",
    "    def updateCompany(self,newCompany):\n",
    "        self.company = newCompany\n",
    "    \n",
    "    def updateHorsepower(self,newHorsepower):\n",
    "        self.horsepower = newHorsepower\n",
    "        \n",
    "    def updateColor(self,newColor):\n",
    "        self.color = newColor\n",
    "        \n",
    "\n",
    "car1 = Car(\"2005\",\"red\",\"mehran\",\"suzuki\",\"550RPM\")\n",
    "print(car1.model)\n",
    "print(car1.color)\n",
    "car1.updateColor(\"Pink\")\n",
    "print(car1.color,\"Updated Color\")\n",
    "print(car1.name)\n",
    "print(car1.company)\n",
    "car1.updateCompany(\"Honda\")\n",
    "print(car1.company,\"updated company\")\n",
    "print(car1.horsepower)\n",
    "car1.updateHorsepower(\"900CC\")\n",
    "print(car1.horsepower,\"updated horsepower\")\n",
    "\n",
    "car2 = Car(\"2009\",\"yellow\",\"BOLAN\",\"suzuki\",\"600RPM\")\n",
    "car3 = Car(\"2013\",\"black\",\"ALTO\",\"suzuki\",\"750RPM\")\n",
    "car4 = Car(\"2018\",\"white\",\"CULTUS\",\"suzuki\",\"900RPM\")\n",
    "car5 = Car(\"2019\",\"brown\",\"JIMNY\",\"suzuki\",\"7000RPM\")\n",
    "\n",
    "\n",
    "        "
   ]
  }
 ],
 "metadata": {
  "kernelspec": {
   "display_name": "Python 3",
   "language": "python",
   "name": "python3"
  },
  "language_info": {
   "codemirror_mode": {
    "name": "ipython",
    "version": 3
   },
   "file_extension": ".py",
   "mimetype": "text/x-python",
   "name": "python",
   "nbconvert_exporter": "python",
   "pygments_lexer": "ipython3",
   "version": "3.7.3"
  }
 },
 "nbformat": 4,
 "nbformat_minor": 2
}
