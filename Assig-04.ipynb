{
 "cells": [
  {
   "cell_type": "code",
   "execution_count": 41,
   "metadata": {},
   "outputs": [
    {
     "name": "stdout",
     "output_type": "stream",
     "text": [
      "first_name  ghulam\n",
      "last_name  abbas\n",
      "age  24\n",
      "city  karachi\n",
      "\n",
      "\n",
      "Qualification add\n",
      "first_name ghulam\n",
      "last_name abbas\n",
      "age 24\n",
      "city karachi\n",
      "qualification graduation\n",
      "\n",
      "\n",
      "Qualification Update\n",
      "first_name ghulam\n",
      "last_name abbas\n",
      "age 24\n",
      "city karachi\n",
      "qualification high academic\n",
      "\n",
      "\n",
      "Qualification Delete\n",
      "first_name ghulam\n",
      "last_name abbas\n",
      "age 24\n",
      "city karachi\n"
     ]
    }
   ],
   "source": [
    "dic = {\n",
    "    \"first_name\" : \"ghulam\",\n",
    "    \"last_name\" : \"abbas\",\n",
    "    \"age\"        : \"24\",\n",
    "    \"city\"       : \"karachi\"\n",
    "}\n",
    "\n",
    "for key , value in dic.items():\n",
    "    print(key+\"  \"+value)\n",
    "print(\"\\n\")\n",
    "print(\"Qualification add\")\n",
    "dic [\"qualification\"] = \"graduation\"\n",
    "\n",
    "for key , value in dic.items():\n",
    "    print(key+\" \"+value)\n",
    "print(\"\\n\")\n",
    "print(\"Qualification Update\")\n",
    "dic[\"qualification\"]=\"high academic\"\n",
    "for key , value in dic.items():\n",
    "    print(key+\" \"+value)\n",
    "\n",
    "print(\"\\n\")\n",
    "print(\"Qualification Delete\")\n",
    "del dic[\"qualification\"]\n",
    "for key , value in dic.items():\n",
    "    print(key+\" \"+value)\n"
   ]
  },
  {
   "cell_type": "code",
   "execution_count": 53,
   "metadata": {},
   "outputs": [
    {
     "name": "stdout",
     "output_type": "stream",
     "text": [
      "karachi\n",
      "\n",
      "country : Pakistan\n",
      "population : 25000000\n",
      "fact : Karachi is among the cheapest city to live in\n",
      "islamabad\n",
      "\n",
      "country : Pakistan\n",
      "population : 1095064\n",
      "fact : Capital of Pakistan\n",
      "Lahore\n",
      "\n",
      "country : Pakistan\n",
      "population : 11126285\n",
      "fact : Lahore is the majority of punjabi\n"
     ]
    }
   ],
   "source": [
    "cities = {\n",
    "    \"karachi\":{\n",
    "        \"country\"    : \"Pakistan\",\n",
    "        \"population\" : \"25000000\",\n",
    "        \"fact\"       : \"Karachi is among the cheapest city to live in\"\n",
    "    },\n",
    "    \"islamabad\":{\n",
    "        \"country\"    : \"Pakistan\",\n",
    "        \"population\" : \"1095064\",\n",
    "        \"fact\"       : \"Capital of Pakistan\"\n",
    "        \n",
    "    },\n",
    "    \"Lahore\":{\n",
    "        \"country\"    : \"Pakistan\",\n",
    "        \"population\" : \"11126285\",\n",
    "        \"fact\"       : \"Lahore is the majority of punjabi\"\n",
    "        \n",
    "    }\n",
    "}\n",
    "\n",
    "for citikey , cityvalue in cities.items():\n",
    "    print(citikey+\"\\n\")\n",
    "    for city in cityvalue:\n",
    "        print(city+\" : \"+str(cityvalue[city]))"
   ]
  },
  {
   "cell_type": "code",
   "execution_count": 2,
   "metadata": {},
   "outputs": [
    {
     "name": "stdout",
     "output_type": "stream",
     "text": [
      "Enter age : 1\n",
      "Ticket is free\n",
      "Are you want to take ticket y/n: n\n"
     ]
    }
   ],
   "source": [
    "flag='y'\n",
    "while flag!='n':\n",
    "    age=int(input(\"Enter age : \"))\n",
    "    if age>12:\n",
    "        print(\"Ticket is 15$\")\n",
    "    elif age>=3:\n",
    "        print(\"Ticket is 10$\")\n",
    "    else:\n",
    "        print(\"Ticket is free\")\n",
    "    flag=input(\"Are you want to take ticket y/n: \")\n",
    "    "
   ]
  },
  {
   "cell_type": "code",
   "execution_count": 5,
   "metadata": {},
   "outputs": [
    {
     "name": "stdout",
     "output_type": "stream",
     "text": [
      "One of my favorite books is Alice in Wonderland.\n"
     ]
    }
   ],
   "source": [
    "def favorite_book(title):\n",
    "    print(title)\n",
    "book_title=\"One of my favorite books is Alice in Wonderland.\"\n",
    "if(len(book_title)!=0):\n",
    "    favorite_book(book_title)\n",
    "else:\n",
    "    print(\"Please populate the book title\")"
   ]
  },
  {
   "cell_type": "code",
   "execution_count": 7,
   "metadata": {},
   "outputs": [
    {
     "name": "stdout",
     "output_type": "stream",
     "text": [
      "Enter number between 1 and 30: 6\n",
      "Hidden number is greater\n",
      "\n",
      "Enter number between 1 and 30: 7\n",
      "Hidden number is greater\n",
      "\n",
      "Enter number between 1 and 30: 9\n",
      "Hidden number is equal\n",
      "\n"
     ]
    }
   ],
   "source": [
    "import random\n",
    "c=0\n",
    "rNumber=0\n",
    "while c<3:\n",
    "    rNumber=int(random.randrange(1,30))\n",
    "    userNumber=int(input(\"Enter number between 1 and 30: \"))\n",
    "    c=c+1\n",
    "    if rNumber>userNumber:\n",
    "        print(\"Hidden number is greater\\n\")\n",
    "    elif rNumber<userNumber:\n",
    "        print(\"Hidden number is Smaller\\n\")\n",
    "    else:\n",
    "        print(\"Hidden number is equal\\n\")"
   ]
  }
 ],
 "metadata": {
  "kernelspec": {
   "display_name": "Python 3",
   "language": "python",
   "name": "python3"
  },
  "language_info": {
   "codemirror_mode": {
    "name": "ipython",
    "version": 3
   },
   "file_extension": ".py",
   "mimetype": "text/x-python",
   "name": "python",
   "nbconvert_exporter": "python",
   "pygments_lexer": "ipython3",
   "version": "3.7.3"
  }
 },
 "nbformat": 4,
 "nbformat_minor": 2
}
